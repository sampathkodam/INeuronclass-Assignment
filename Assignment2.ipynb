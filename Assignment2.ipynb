{
 "cells": [
  {
   "cell_type": "markdown",
   "metadata": {},
   "source": [
    "1. Create the below pattern using nested for loop in Python.\n",
    "\n",
    "*\n",
    "* *\n",
    "* * *\n",
    "* * * *\n",
    "* * * * *\n",
    "* * * *\n",
    "* * *\n",
    "* *\n",
    "*\n"
   ]
  },
  {
   "cell_type": "code",
   "execution_count": 1,
   "metadata": {},
   "outputs": [
    {
     "name": "stdout",
     "output_type": "stream",
     "text": [
      "*\n",
      "**\n",
      "***\n",
      "****\n",
      "*****\n",
      "****\n",
      "***\n",
      "**\n",
      "*\n"
     ]
    }
   ],
   "source": [
    "str = ''\n",
    "for i in range(0,9):\n",
    "  if i < 5 :\n",
    "    str = str + '*'\n",
    "    print(str)\n",
    "  elif i > 4:\n",
    "    str = str[:-1]\n",
    "    print(str)"
   ]
  },
  {
   "cell_type": "markdown",
   "metadata": {},
   "source": [
    "2. Write a Python program to reverse a word after accepting the input from the user.\n",
    "\n",
    "Sample Output:\n",
    "\n",
    "Input Word : ineuron\n",
    "Outpu : norunei"
   ]
  },
  {
   "cell_type": "code",
   "execution_count": 2,
   "metadata": {},
   "outputs": [
    {
     "name": "stdout",
     "output_type": "stream",
     "text": [
      "Input Word : INeuron\n",
      "Output :norueNI\n"
     ]
    }
   ],
   "source": [
    "def reverse(word):\n",
    "  if len(word)==0:\n",
    "    return word\n",
    "  else:\n",
    "    return reverse(word[1:]) + word[0]\n",
    "\n",
    "word = input(\"Input Word : \")\n",
    "print(\"Output :\",end=\"\")\n",
    "print(reverse(word))"
   ]
  }
 ],
 "metadata": {
  "kernelspec": {
   "display_name": "Python 3",
   "language": "python",
   "name": "python3"
  },
  "language_info": {
   "codemirror_mode": {
    "name": "ipython",
    "version": 3
   },
   "file_extension": ".py",
   "mimetype": "text/x-python",
   "name": "python",
   "nbconvert_exporter": "python",
   "pygments_lexer": "ipython3",
   "version": "3.6.5"
  }
 },
 "nbformat": 4,
 "nbformat_minor": 2
}
